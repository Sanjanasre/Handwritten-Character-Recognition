{
 "cells": [
  {
   "cell_type": "code",
   "execution_count": 1,
   "metadata": {},
   "outputs": [],
   "source": [
    "import torch\n",
    "import numpy as np\n",
    "import torch.nn as nn\n",
    "import torch.nn.functional as F\n",
    "import torch.optim as optim\n",
    "import pandas as pd\n",
    "\n",
    "import torchvision\n",
    "import torchvision.transforms as transforms\n",
    "\n",
    "from collections import namedtuple\n",
    "from itertools import product\n",
    "\n",
    "from torch.utils.tensorboard import SummaryWriter\n",
    "import matplotlib.pyplot as plt\n",
    "from collections import OrderedDict\n",
    "\n",
    "from CNN import Network\n",
    "from Train import Train\n",
    "from Test import Test\n",
    "from DAL import DAL\n",
    "from Utils import Utils\n",
    "\n",
    "from collections import OrderedDict"
   ]
  },
  {
   "cell_type": "code",
   "execution_count": 9,
   "metadata": {},
   "outputs": [
    {
     "name": "stdout",
     "output_type": "stream",
     "text": [
      "data_train\n",
      "(6400,)\n",
      "(50, 49)\n",
      "(6400,)\n",
      "3.0\n"
     ]
    }
   ],
   "source": [
    "torch.set_printoptions(linewidth=120)\n",
    "torch.set_grad_enabled(True)\n",
    "\n",
    "data_train = np.load('train_data.pkl', allow_pickle=True)\n",
    "print(\"data_train\")\n",
    "print(data_train.shape)\n",
    "nd_arr = np.array(data_train[0])\n",
    "print(nd_arr.shape)\n",
    "\n",
    "labels = np.load('finalLabelsTrain.npy', allow_pickle=False)\n",
    "print(labels.shape)\n",
    "print(labels[100])"
   ]
  },
  {
   "cell_type": "code",
   "execution_count": 13,
   "metadata": {},
   "outputs": [],
   "source": [
    "def perform_hand_written_char_recognition(data_set_path, label_set_path, image_dims, parameters, split_size,\n",
    "                                            epochs=10):\n",
    "    self.__split_train_test_validation_set(data_set_path, label_set_path, image_dims, split_size)\n",
    "    network = self.__train_model(parameters, epochs)\n",
    "    # self.__test_model(network, parameters)"
   ]
  },
  {
   "cell_type": "code",
   "execution_count": 14,
   "metadata": {},
   "outputs": [],
   "source": [
    "data_set_path = \"train_data.pkl\"\n",
    "label_set_path = \"finalLabelsTrain.npy\"\n",
    "image_dims = (52, 52)\n",
    "epochs = 12\n",
    "split_size = 0.01\n",
    "parameters = OrderedDict(\n",
    "    lr=[0.01],\n",
    "    batch_size=[100]\n",
    ")"
   ]
  },
  {
   "cell_type": "code",
   "execution_count": null,
   "metadata": {},
   "outputs": [],
   "source": [
    "perform_hand_written_char_recognition(self, data_set_path, label_set_path, image_dims, parameters, split_size,\n",
    "                                        epochs=12)"
   ]
  }
 ],
 "metadata": {
  "kernelspec": {
   "display_name": "Python 3",
   "language": "python",
   "name": "python3"
  },
  "language_info": {
   "codemirror_mode": {
    "name": "ipython",
    "version": 3
   },
   "file_extension": ".py",
   "mimetype": "text/x-python",
   "name": "python",
   "nbconvert_exporter": "python",
   "pygments_lexer": "ipython3",
   "version": "3.7.3"
  }
 },
 "nbformat": 4,
 "nbformat_minor": 2
}
